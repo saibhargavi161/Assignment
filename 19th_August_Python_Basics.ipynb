{
 "cells": [
  {
   "cell_type": "markdown",
   "id": "9f3ce38a-6dc5-4c65-99ff-57a8b7d544c9",
   "metadata": {},
   "source": [
    "TOPIC: Python Basics Variable\n",
    "1. Declare two variables, `x` and `y`, and assign them integer values. Swap the values of these variables without using any temporary variable."
   ]
  },
  {
   "cell_type": "code",
   "execution_count": 1,
   "id": "177e1851-c6b5-49c4-bccb-568f74b83253",
   "metadata": {},
   "outputs": [],
   "source": [
    "x,y=10,20"
   ]
  },
  {
   "cell_type": "code",
   "execution_count": 2,
   "id": "aa7c5a4f-cf80-4191-a49a-6e241e56775c",
   "metadata": {},
   "outputs": [],
   "source": [
    "x,y=y,x"
   ]
  },
  {
   "cell_type": "code",
   "execution_count": 3,
   "id": "2c5d06ca-46ce-45a0-b796-286f01347c9b",
   "metadata": {},
   "outputs": [
    {
     "data": {
      "text/plain": [
       "20"
      ]
     },
     "execution_count": 3,
     "metadata": {},
     "output_type": "execute_result"
    }
   ],
   "source": [
    "x"
   ]
  },
  {
   "cell_type": "code",
   "execution_count": 4,
   "id": "a405ebc5-9b6c-441b-a9b0-f892c66cd541",
   "metadata": {},
   "outputs": [
    {
     "data": {
      "text/plain": [
       "10"
      ]
     },
     "execution_count": 4,
     "metadata": {},
     "output_type": "execute_result"
    }
   ],
   "source": [
    "y"
   ]
  },
  {
   "cell_type": "markdown",
   "id": "3dd23c51-0224-4b69-bb2e-6d61b21b16ef",
   "metadata": {},
   "source": [
    "2. Create a program that calculates the area of a rectangle. Take the length and width as inputs from the user and store them in variables. Calculate and display the area."
   ]
  },
  {
   "cell_type": "code",
   "execution_count": 5,
   "id": "bfe6a641-bc43-4bc4-9faf-0cfa66d07d85",
   "metadata": {},
   "outputs": [
    {
     "name": "stdin",
     "output_type": "stream",
     "text": [
      " 2\n"
     ]
    }
   ],
   "source": [
    "length=int(input())"
   ]
  },
  {
   "cell_type": "code",
   "execution_count": 6,
   "id": "32dbb367-3c85-415a-9bc8-1b1a5d3e7020",
   "metadata": {},
   "outputs": [
    {
     "name": "stdin",
     "output_type": "stream",
     "text": [
      " 4\n"
     ]
    }
   ],
   "source": [
    "width=int(input())"
   ]
  },
  {
   "cell_type": "code",
   "execution_count": 7,
   "id": "435e5fe0-e2df-4666-8705-a2e7a4cae0c9",
   "metadata": {},
   "outputs": [],
   "source": [
    "area=length*width"
   ]
  },
  {
   "cell_type": "code",
   "execution_count": 8,
   "id": "55eb4119-3fad-4fb8-bb5f-78ad0be83b49",
   "metadata": {},
   "outputs": [
    {
     "data": {
      "text/plain": [
       "8"
      ]
     },
     "execution_count": 8,
     "metadata": {},
     "output_type": "execute_result"
    }
   ],
   "source": [
    "area"
   ]
  },
  {
   "cell_type": "markdown",
   "id": "28a80b4e-2d21-4e34-a68b-6a6e82cd7ed0",
   "metadata": {},
   "source": [
    "3. Write a Python program that converts temperatures from Celsius to Fahrenheit. Take the temperature in Celsius as input, store it in a variable, convert it to Fahrenheit, and display the result."
   ]
  },
  {
   "cell_type": "code",
   "execution_count": 9,
   "id": "f24b06cb-2acb-4a1f-96f3-34fceb4286f1",
   "metadata": {},
   "outputs": [
    {
     "name": "stdin",
     "output_type": "stream",
     "text": [
      "Enter the temperature in celsius: 30\n"
     ]
    }
   ],
   "source": [
    "celsius=int(input(\"Enter the temperature in celsius:\"))"
   ]
  },
  {
   "cell_type": "code",
   "execution_count": 10,
   "id": "8f00a338-1055-4fed-ac60-a56c67675e27",
   "metadata": {},
   "outputs": [],
   "source": [
    "fahrenheit=(1.8*celsius)+32"
   ]
  },
  {
   "cell_type": "code",
   "execution_count": 11,
   "id": "5e09c19f-5db7-48ae-be5b-b3778a90f1da",
   "metadata": {},
   "outputs": [
    {
     "data": {
      "text/plain": [
       "86.0"
      ]
     },
     "execution_count": 11,
     "metadata": {},
     "output_type": "execute_result"
    }
   ],
   "source": [
    "fahrenheit"
   ]
  },
  {
   "cell_type": "markdown",
   "id": "dd4a3236-2d6f-4450-b992-0c7d817d6fcc",
   "metadata": {},
   "source": [
    "TOPIC: String Based Questions"
   ]
  },
  {
   "cell_type": "markdown",
   "id": "f809d553-67b6-47fe-a470-3cbce2947755",
   "metadata": {},
   "source": [
    "1. Write a Python program that takes a string as input and prints the length of the string."
   ]
  },
  {
   "cell_type": "code",
   "execution_count": 12,
   "id": "fd322f71-9390-4535-8755-634f969cbc7d",
   "metadata": {},
   "outputs": [
    {
     "name": "stdin",
     "output_type": "stream",
     "text": [
      "Enter any string: saibhargavi\n"
     ]
    }
   ],
   "source": [
    "string=input(\"Enter any string:\")"
   ]
  },
  {
   "cell_type": "code",
   "execution_count": 13,
   "id": "2adb2546-48f9-4fb0-897e-99a0f44de7bc",
   "metadata": {},
   "outputs": [
    {
     "data": {
      "text/plain": [
       "11"
      ]
     },
     "execution_count": 13,
     "metadata": {},
     "output_type": "execute_result"
    }
   ],
   "source": [
    "len(string)"
   ]
  },
  {
   "cell_type": "markdown",
   "id": "76526eff-561f-401f-99a3-2e11948f676b",
   "metadata": {},
   "source": [
    "2. Create a program that takes a sentence from the user and counts the number of vowels (a, e, i, o, u) in the string."
   ]
  },
  {
   "cell_type": "code",
   "execution_count": 14,
   "id": "8ef7bf70-5800-4e1e-98ad-34ecb718b4a2",
   "metadata": {},
   "outputs": [
    {
     "name": "stdin",
     "output_type": "stream",
     "text": [
      "Enter any sentence: welcome to python\n"
     ]
    }
   ],
   "source": [
    "string=input(\"Enter any sentence:\")"
   ]
  },
  {
   "cell_type": "code",
   "execution_count": 15,
   "id": "8c338a04-9411-4776-b351-2c012087690f",
   "metadata": {},
   "outputs": [],
   "source": [
    "count=0"
   ]
  },
  {
   "cell_type": "code",
   "execution_count": 21,
   "id": "04711370-6bcb-43f4-ae84-fec06d1e576c",
   "metadata": {},
   "outputs": [],
   "source": [
    "for i in string:\n",
    "    if(i=='a' or i=='e' or i=='i' or i=='o' or i=='u' or i=='A' or i=='E' or i=='I' or i=='O' or i=='U'):\n",
    "        count=count+1"
   ]
  },
  {
   "cell_type": "code",
   "execution_count": 23,
   "id": "33f6e252-e615-4f93-afdf-71f220bd2d3d",
   "metadata": {},
   "outputs": [
    {
     "data": {
      "text/plain": [
       "5"
      ]
     },
     "execution_count": 23,
     "metadata": {},
     "output_type": "execute_result"
    }
   ],
   "source": [
    "count"
   ]
  },
  {
   "cell_type": "markdown",
   "id": "fa440b3a-a554-4f95-b126-388e3eed6a88",
   "metadata": {},
   "source": [
    "3. Given a string, reverse the order of characters using string slicing and print the reversed string."
   ]
  },
  {
   "cell_type": "code",
   "execution_count": 24,
   "id": "9b21fc30-4dc2-44d6-8d0f-a2ce818b4d9a",
   "metadata": {},
   "outputs": [],
   "source": [
    "string=\"Saibhargavi\""
   ]
  },
  {
   "cell_type": "code",
   "execution_count": 25,
   "id": "67428164-1028-4ebc-a827-90df76736db8",
   "metadata": {},
   "outputs": [
    {
     "data": {
      "text/plain": [
       "'ivagrahbiaS'"
      ]
     },
     "execution_count": 25,
     "metadata": {},
     "output_type": "execute_result"
    }
   ],
   "source": [
    "string[::-1]"
   ]
  },
  {
   "cell_type": "markdown",
   "id": "c7d77902-ac9c-4f19-a45c-d95eb1078c2a",
   "metadata": {},
   "source": [
    "4. Write a program that takes a string as input and checks if it is a palindrome (reads the same forwards and backwards)."
   ]
  },
  {
   "cell_type": "code",
   "execution_count": 26,
   "id": "edc56412-55b3-47b8-a16b-e9eb36764ecb",
   "metadata": {},
   "outputs": [
    {
     "name": "stdin",
     "output_type": "stream",
     "text": [
      "enter any string noon\n"
     ]
    }
   ],
   "source": [
    "string=input(\"enter any string\")"
   ]
  },
  {
   "cell_type": "code",
   "execution_count": 27,
   "id": "8e3d4ed3-6d18-475f-a438-7bda1b337c49",
   "metadata": {},
   "outputs": [],
   "source": [
    "reversed_string=string[::-1]"
   ]
  },
  {
   "cell_type": "code",
   "execution_count": 28,
   "id": "8e2009d3-6e4a-4c10-9b94-fc10992fe11a",
   "metadata": {},
   "outputs": [
    {
     "name": "stdout",
     "output_type": "stream",
     "text": [
      "it is a palindrome\n"
     ]
    }
   ],
   "source": [
    "if string==reversed_string:\n",
    "    print(\"it is a palindrome\")"
   ]
  },
  {
   "cell_type": "markdown",
   "id": "c8f65061-fd09-44df-90ec-80c7ce77d7ef",
   "metadata": {},
   "source": [
    "5. Create a program that takes a string as input and removes all the spaces from\n",
    "it. Print the modified string without spaces."
   ]
  },
  {
   "cell_type": "code",
   "execution_count": 55,
   "id": "99ef198c-fe23-453d-8622-a27815c792ac",
   "metadata": {},
   "outputs": [
    {
     "name": "stdin",
     "output_type": "stream",
     "text": [
      "Enter any string: podaparthi sai bhargavi\n"
     ]
    }
   ],
   "source": [
    "string=input(\"Enter any string:\")"
   ]
  },
  {
   "cell_type": "code",
   "execution_count": 56,
   "id": "6541c441-050e-4c37-aa68-1b7dd27313b2",
   "metadata": {},
   "outputs": [],
   "source": [
    "modified_string=\"\".join(string.split())"
   ]
  },
  {
   "cell_type": "code",
   "execution_count": 57,
   "id": "7b256403-5026-4733-9b98-01070d79f700",
   "metadata": {},
   "outputs": [
    {
     "data": {
      "text/plain": [
       "'podaparthisaibhargavi'"
      ]
     },
     "execution_count": 57,
     "metadata": {},
     "output_type": "execute_result"
    }
   ],
   "source": [
    "modified_string"
   ]
  }
 ],
 "metadata": {
  "kernelspec": {
   "display_name": "Python 3 (ipykernel)",
   "language": "python",
   "name": "python3"
  },
  "language_info": {
   "codemirror_mode": {
    "name": "ipython",
    "version": 3
   },
   "file_extension": ".py",
   "mimetype": "text/x-python",
   "name": "python",
   "nbconvert_exporter": "python",
   "pygments_lexer": "ipython3",
   "version": "3.10.8"
  }
 },
 "nbformat": 4,
 "nbformat_minor": 5
}
